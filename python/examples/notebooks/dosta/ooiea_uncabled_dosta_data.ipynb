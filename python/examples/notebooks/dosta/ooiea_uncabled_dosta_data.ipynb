{
 "cells": [
  {
   "cell_type": "markdown",
   "metadata": {},
   "source": [
    "# Accessing OOI Endurance Array Surface Mooring Dissolved Oxygen Data\n",
    "\n",
    "There are six surface moorings in the OOI Endurance Array (EA), each with a dissolved oxygen (DO) sensor at 7 m depth on a midwater platform, termed the Near Surface Instrument Frame (NSIF). Four of the EA surface moorings have DO sensors on seafloor platforms, termed the Multifunction Node (MFN). The MFNs sit directly on the seafloor and the DO sensors are mounted approximately 1 m above the seafloor. The DO data available is a function of the data logger used (either a Data Concentrator Logger, DCL, or an SBE 16Plus V2 SeaCat CTD). DCL logged data includes the calibrated phase and optode thermistor temperature data that can be used to recompute the DO concentrations. The table below indicates which loggers are used at the different sites and platforms. Note, DO sensors for the Oregon Shelf and Offshore sites are mounted on the Cabled Array Benthic Experiment Package (BEP) seafloor platforms. Data from those sensors is not covered here. \n",
    "\n",
    "| Mooring | Site Name | NSIF Logger | Seafloor Logger and Site Depth |\n",
    "| --- | --- | --- | --- |\n",
    "| CE01ISSM | Oregon Inshore Surface Mooring | CTD | CTD, 25 m |\n",
    "| CE02SHSM | Oregon Shelf Surface Mooring | DCL | Cabled Array BEP, 80 m |\n",
    "| CE04OSSM | Oregon Offshore Surface Mooring | DCL | Cabled Array BEP, 582 m |\n",
    "| CE06ISSM | Washington Inshore Surface Mooring | CTD | CTD, 29 m |\n",
    "| CE07SHSM | Washington Shelf Surface Mooring | DCL | CTD, 87 m |\n",
    "| CE09OSSM | Washington Offshore Surface Mooring | DCL | CTD, 542 m |"
   ]
  },
  {
   "cell_type": "code",
   "execution_count": null,
   "metadata": {},
   "outputs": [],
   "source": [
    "import datetime\n",
    "import os\n",
    "\n",
    "from matplotlib import pyplot as plt\n",
    "plt.style.use('seaborn-white')\n",
    "\n",
    "from ooi_data_explorations.common import list_deployments, get_deployment_dates, get_vocabulary, m2m_request, \\\n",
    "    m2m_collect, update_dataset, CONFIG, ENCODINGS\n",
    "from ooi_data_explorations.uncabled.process_dosta import dosta_ctdbp_datalogger, dosta_datalogger\n",
    "\n",
    "import warnings\n",
    "warnings.filterwarnings('ignore')"
   ]
  },
  {
   "cell_type": "markdown",
   "metadata": {},
   "source": [
    "### Requesting Washington Inshore and Shelf Summer 2020 Data \n",
    "\n",
    "This notebook will focus on requesting, downloading and plotting data from the Washington Inshore (CE06ISSM) and Shelf (CE07SHSM) Surface moorings since June 1, 2020. The methods shown, however, are applicable to any of the EA surface moorings or the OOI Pioneer and Global Arrays.\n",
    "\n",
    "### Structuring the Data Request\n",
    "\n",
    "I will be using the python code in the [OOI Data Explorations Repository](https://github.com/oceanobservatories/ooi-data-explorations) to request, download and process the DO data for this notebook. A README is [available](https://github.com/oceanobservatories/ooi-data-explorations/blob/master/python/README.md) to describe to how to install, setup and use this python code. A [detailed description](https://github.com/oceanobservatories/ooi-data-explorations/blob/master/python/README.md#m2m-terminology) of the elements needed to structure the request is available as a part of that [README](https://github.com/oceanobservatories/ooi-data-explorations/blob/master/python/README.md)."
   ]
  },
  {
   "cell_type": "code",
   "execution_count": null,
   "metadata": {},
   "outputs": [],
   "source": [
    "# Setup needed parameters for the request for CE06ISSM\n",
    "site = 'CE06ISSM'           # OOI Net site designator\n",
    "node = 'RID16'              # OOI Net node designator\n",
    "sensor = '03-DOSTAD000'     # OOI Net sensor designator\n",
    "stream = 'dosta_abcdjm_ctdbp_dcl_instrument'  # OOI Net stream name\n",
    "method = 'telemetered'      # OOI Net data delivery method\n",
    "\n",
    "# Set the start date to June 1, 2020. Leaving the stop date empty will request through the end of the record.\n",
    "start = '2020-06-01T00:00:00.000Z'    # explicit date/time format required for M2M requests\n",
    "\n",
    "# request the data\n",
    "r = m2m_request(site, node, sensor, method, stream, start)"
   ]
  },
  {
   "cell_type": "markdown",
   "metadata": {},
   "source": [
    "### Results of the Data Request\n",
    "\n",
    "The data request structured and executed above does not actually return any data. Instead, we receive an email with a link to a THREDDS catalog that has NetCDF files containing the results of the requests. We also will receive a JSON formatted response to the request that contains all the information needed to access the data directly. In this case, the response is in the variable `r`.\n",
    "\n",
    "The URL of the THREDDS catalog is contained in both `r.outputURL` and `r.allURLs`. You can copy/paste those into a browser and see the catalog. If you alter the URL slightly, removing everything in between your email address and `catalog.html`, you will have access to all of your requested catalogs (kept for approximately 6 months). If you want to re-download a dataset, you can simply go back to your catalog and find the request of interest rather than issuing a new request for the data.\n",
    "\n",
    "There will be several files in the catalog. We are specifically after the NetCDF files, or the `*.nc` files. If data from another instrument was required to process the data, those files we also be present. The use of a simple regex search term will allow us to collect and download only the NetCDF data of interest for this instrument."
   ]
  },
  {
   "cell_type": "code",
   "execution_count": null,
   "metadata": {},
   "outputs": [],
   "source": [
    "# collect and download the DOSTA data from the NSIF in an xarray dataset\n",
    "nsif06 = m2m_collect(r, '.*DOSTA.*\\\\.nc$')"
   ]
  },
  {
   "cell_type": "markdown",
   "metadata": {},
   "source": [
    "The steps above were a bit verbose. Lets get the rest of the data for the CE06ISSM MFN as well as for CE07SHSM. Note the CE07SHSM is a DCL logged data set, so the parameters used for the request are different. All the data will be in xarray datasets."
   ]
  },
  {
   "cell_type": "code",
   "execution_count": null,
   "metadata": {},
   "outputs": [],
   "source": [
    "# CE06ISSM MFN\n",
    "r = m2m_request(site, 'MFD37', sensor, method, stream, start)\n",
    "mfn06 = m2m_collect(r, '.*DOSTA.*\\\\.nc$')\n",
    "\n",
    "# CE07SHSM NSIF\n",
    "r = m2m_request('CE07SHSM', 'RID27', '04-DOSTAD000', method, 'dosta_abcdjm_dcl_instrument', start)\n",
    "nsif07 = m2m_collect(r, '.*DOSTA.*\\\\.nc$')\n",
    "\n",
    "# CE07SHSM MFN\n",
    "r = m2m_request('CE07SHSM', 'MFD37', sensor, method, stream, start)\n",
    "mfn07 = m2m_collect(r, '.*DOSTA.*\\\\.nc$')"
   ]
  },
  {
   "cell_type": "code",
   "execution_count": null,
   "metadata": {},
   "outputs": [],
   "source": [
    "plt.figure(figsize=(16,9))\n",
    "plt.rcParams.update({'font.size': 14})\n",
    "plt.plot(nsif06.time, nsif06.dissolved_oxygen, label='7 m')\n",
    "plt.plot(mfn06.time, mfn06.dissolved_oxygen, label='29 m')\n",
    "plt.title('Washington Inshore Surface Mooring, June 2020 to Present')\n",
    "plt.ylabel('Dissolved Oxygen (umol/kg)')\n",
    "plt.xlim(datetime.date(2020, 6, 1), datetime.date(2020, 10, 7))\n",
    "plt.ylim(0, 500)\n",
    "plt.legend()\n",
    "plt.show()"
   ]
  },
  {
   "cell_type": "code",
   "execution_count": null,
   "metadata": {},
   "outputs": [],
   "source": [
    "plt.figure(figsize=(16,9))\n",
    "plt.rcParams.update({'font.size': 14})\n",
    "plt.plot(nsif07.time, nsif07.dissolved_oxygen, label='7 m')\n",
    "plt.plot(mfn07.time, mfn07.dissolved_oxygen, label='87 m')\n",
    "plt.title('Washington Shelf Surface Mooring, June 2020 to Present')\n",
    "plt.ylabel('Dissolved Oxygen (umol/kg)')\n",
    "plt.xlim(datetime.date(2020, 6, 1), datetime.date(2020, 9, 8))\n",
    "plt.ylim(0, 500)\n",
    "plt.legend()\n",
    "plt.show()"
   ]
  },
  {
   "cell_type": "markdown",
   "metadata": {},
   "source": [
    "### Saving the Results for Further Analysis\n",
    "\n",
    "Because the data are in xarray datasets, we can, if so desired, use the `to_netcdf` method to save the results to the local disk for further analysis. "
   ]
  },
  {
   "cell_type": "code",
   "execution_count": null,
   "metadata": {},
   "outputs": [],
   "source": [
    "def save_dosta(ds, site, level, instrmt):\n",
    "    home = os.path.expanduser('~')\n",
    "    m2m_base = os.path.abspath(os.path.join(home, 'ooidata/m2m'))\n",
    "    out_path = os.path.join(m2m_base, site, level, instrmt)\n",
    "    if not os.path.exists(out_path):\n",
    "        os.makedirs(out_path)\n",
    "    out_file = ('%s.%s.%s.Summer2020.nc' % (site, level, instrmt))\n",
    "    nc_out = os.path.join(out_path, out_file)\n",
    "    ds.to_netcdf(nc_out, mode='w', format='NETCDF4', engine='h5netcdf', encoding=ENCODINGS)\n",
    "\n",
    "# clean up, update and save the datasets -- CE06ISSM\n",
    "nsif06 = dosta_ctdbp_datalogger(nsif06)\n",
    "nsif06 = update_dataset(nsif06, 7)\n",
    "save_dosta(nsif06, 'ce06issm', 'nsif', 'dosta')\n",
    "mfn06 = dosta_ctdbp_datalogger(mfn06)\n",
    "mfn06 = update_dataset(mfn06, 29)\n",
    "save_dosta(mfn06, 'ce06issm', 'seafloor', 'dosta')\n",
    "\n",
    "# clean up, update and save the datasets -- CE07SHSM\n",
    "nsif07 = dosta_datalogger(nsif07, burst=False)\n",
    "nsif07 = update_dataset(nsif07, 7)\n",
    "save_dosta(nsif07, 'ce07shsm', 'nsif', 'dosta')\n",
    "mfn07 = dosta_ctdbp_datalogger(mfn07)\n",
    "mfn07 = update_dataset(mfn07, 87)\n",
    "save_dosta(mfn07, 'ce07shsm', 'seafloor', 'dosta')"
   ]
  },
  {
   "cell_type": "code",
   "execution_count": null,
   "metadata": {},
   "outputs": [],
   "source": []
  }
 ],
 "metadata": {
  "kernelspec": {
   "display_name": "Python 3 (ipykernel)",
   "language": "python",
   "name": "python3"
  },
  "language_info": {
   "codemirror_mode": {
    "name": "ipython",
    "version": 3
   },
   "file_extension": ".py",
   "mimetype": "text/x-python",
   "name": "python",
   "nbconvert_exporter": "python",
   "pygments_lexer": "ipython3",
   "version": "3.10.9"
  }
 },
 "nbformat": 4,
 "nbformat_minor": 4
}
