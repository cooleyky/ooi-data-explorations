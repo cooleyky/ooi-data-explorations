{
 "cells": [
  {
   "attachments": {},
   "cell_type": "markdown",
   "metadata": {},
   "source": [
    "# Changes in QARTOD Gross Range and Climatology Lookup Tables\n",
    "\n",
    "The lookup tables for gross range and climatology QARTOD tests on OOI CTDBP data were last updated on 12 Jan 2022, and the \"suspect\" ranges were calculated with all data before the cutoff date of 31 Dec 2021. However, when we recalculate these test ranges now, the values are different because recovered data that was recorded by the sensor before the cutoff date were recovered and ingested after the current lookup tables were published online. \n",
    "\n",
    "Deployment 14 of the Coastal Endurance array was the last deployment to be recovered before the cutoff date, and this data was ingested on 18 Oct 2021 (but this would be later than the last date that recovered instrument data was available for the original lookup tables). "
   ]
  },
  {
   "cell_type": "code",
   "execution_count": null,
   "metadata": {},
   "outputs": [],
   "source": [
    "# Load python modules used in this notebook into the workspace\n",
    "import ooi_data_explorations.qartod.qc_processing as qc_process\n",
    "import ooi_data_explorations.common as ooi_tools\n",
    "from ooi_data_explorations.common import load_gc_thredds\n",
    "from ooi_data_explorations.uncabled.process_ctdbp import ctdbp_datalogger, ctdbp_instrument\n",
    "\n",
    "from ooinet import M2M\n",
    "\n",
    "import numpy as np\n",
    "import pandas as pd\n",
    "import xarray as xr\n",
    "import dask"
   ]
  },
  {
   "cell_type": "code",
   "execution_count": null,
   "metadata": {},
   "outputs": [],
   "source": [
    "# set parameters for a particular sensor\n",
    "site = 'CE01ISSM'\n",
    "node = 'SBD17'\n",
    "sensor = '06-CTDBPC000'\n",
    "\n",
    "refdes = '-'.join([site,node,sensor])"
   ]
  },
  {
   "cell_type": "code",
   "execution_count": null,
   "metadata": {},
   "outputs": [],
   "source": [
    "vocab = M2M.get_vocab(refdes)\n",
    "vocab"
   ]
  },
  {
   "cell_type": "code",
   "execution_count": null,
   "metadata": {},
   "outputs": [],
   "source": [
    "deployments = M2M.get_deployments(refdes)\n",
    "deployments"
   ]
  },
  {
   "cell_type": "code",
   "execution_count": null,
   "metadata": {},
   "outputs": [],
   "source": []
  },
  {
   "cell_type": "code",
   "execution_count": null,
   "metadata": {},
   "outputs": [],
   "source": [
    "metadata = M2M.get_metadata(refdes)\n",
    "metadata # all this tells me is that ingestion_timestamp exists as a variable for the data streams telemetered, recovered_host, and recovered_inst"
   ]
  },
  {
   "cell_type": "code",
   "execution_count": null,
   "metadata": {},
   "outputs": [],
   "source": []
  },
  {
   "cell_type": "code",
   "execution_count": null,
   "metadata": {},
   "outputs": [],
   "source": [
    "# download recovered_host data on last day of deployment 10\n",
    "tag = '.*CTDBP.*\\\\.nc$'\n",
    "method = 'recovered_host'\n",
    "stream = 'ctdbp_cdef_dcl_instrument_recovered'\n",
    "req_host = ooi_tools.m2m_request(site, node, sensor, method, stream, start='2021-09-17T00:00:00.000Z', stop='2021-09-17T14:00:00.000Z')\n",
    "data_host = ooi_tools.m2m_collect(req_host, tag)\n",
    "data_host\n",
    "# added data ingestion date in notes on OOI Data Explorations"
   ]
  },
  {
   "cell_type": "code",
   "execution_count": null,
   "metadata": {},
   "outputs": [],
   "source": [
    "# download recovered_inst data on last day of deployment 10\n",
    "tag = '.*CTDBP.*\\\\.nc$'\n",
    "method = 'recovered_inst'\n",
    "stream = 'ctdbp_cdef_instrument_recovered'\n",
    "req_inst = ooi_tools.m2m_request(site, node, sensor, method, stream, start='2021-09-17T00:00:00.000Z', stop='2021-09-17T14:00:00.000Z')\n",
    "data_inst = ooi_tools.m2m_collect(req_inst, tag)\n",
    "data_inst\n",
    "# added data ingestion date in notes on OOI Data Explorations"
   ]
  },
  {
   "cell_type": "code",
   "execution_count": null,
   "metadata": {},
   "outputs": [],
   "source": []
  }
 ],
 "metadata": {
  "kernelspec": {
   "display_name": "base",
   "language": "python",
   "name": "python3"
  },
  "language_info": {
   "codemirror_mode": {
    "name": "ipython",
    "version": 3
   },
   "file_extension": ".py",
   "mimetype": "text/x-python",
   "name": "python",
   "nbconvert_exporter": "python",
   "pygments_lexer": "ipython3",
   "version": "3.10.9"
  },
  "orig_nbformat": 4
 },
 "nbformat": 4,
 "nbformat_minor": 2
}
