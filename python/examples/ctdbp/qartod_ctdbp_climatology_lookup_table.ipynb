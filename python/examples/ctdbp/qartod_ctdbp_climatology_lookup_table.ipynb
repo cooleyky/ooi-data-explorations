{
 "cells": [
  {
   "attachments": {},
   "cell_type": "markdown",
   "metadata": {},
   "source": [
    "# Changes in QARTOD Gross Range and Climatology Lookup Tables\n",
    "\n",
    "The lookup tables for gross range and climatology QARTOD tests on OOI CTDBP data were last updated on 12 Jan 2022, and the \"suspect\" ranges were calculated with all data before the cutoff date of 31 Dec 2021. However, when we recalculate these test ranges now, the values are different because recovered data that was recorded by the sensor before the cutoff date were recovered and ingested after the current lookup tables were published online. \n",
    "\n",
    "Deployment 14 of the Coastal Endurance array was the last deployment to be recovered before the cutoff date on 17 Sept 2021, so this is the last date that recovered instrument data was available for the original lookup tables. We can assume that deployment 14 data was included in the lookup table calculation since it was ingested on 18 Oct 2021. Since deployment 15 data was recovered 31 Mar 2022 and ingested xx xxx 2022, any gross range or climatology test ranges recalculated after 2023 with the same cutoff date will include additional recovered data from 17 Sept to 31 Dec 2021.\n",
    "\n",
    "(Note: We could change the cutoff date to 17 Sept 2021 when calling on the script to recalculate the lookup tables, and see if that would result in the same lookup table values.)"
   ]
  },
  {
   "cell_type": "code",
   "execution_count": 1,
   "metadata": {},
   "outputs": [],
   "source": [
    "# Load python modules used in this notebook into the workspace\n",
    "import ooi_data_explorations.qartod.qc_processing as qc_process\n",
    "import ooi_data_explorations.common as ooi_tools\n",
    "from ooi_data_explorations.common import load_gc_thredds\n",
    "from ooi_data_explorations.uncabled.process_ctdbp import ctdbp_datalogger, ctdbp_instrument\n",
    "\n",
    "from ooinet import M2M\n",
    "\n",
    "import numpy as np\n",
    "import pandas as pd\n",
    "import xarray as xr\n",
    "import dask"
   ]
  },
  {
   "cell_type": "code",
   "execution_count": 2,
   "metadata": {},
   "outputs": [],
   "source": [
    "# set parameters for a particular sensor\n",
    "site = 'CE01ISSM'\n",
    "node = 'SBD17'\n",
    "sensor = '06-CTDBPC000'\n",
    "\n",
    "refdes = '-'.join([site,node,sensor])"
   ]
  },
  {
   "cell_type": "code",
   "execution_count": 3,
   "metadata": {},
   "outputs": [
    {
     "data": {
      "text/html": [
       "<div>\n",
       "<style scoped>\n",
       "    .dataframe tbody tr th:only-of-type {\n",
       "        vertical-align: middle;\n",
       "    }\n",
       "\n",
       "    .dataframe tbody tr th {\n",
       "        vertical-align: top;\n",
       "    }\n",
       "\n",
       "    .dataframe thead th {\n",
       "        text-align: right;\n",
       "    }\n",
       "</style>\n",
       "<table border=\"1\" class=\"dataframe\">\n",
       "  <thead>\n",
       "    <tr style=\"text-align: right;\">\n",
       "      <th></th>\n",
       "      <th>@class</th>\n",
       "      <th>vocabId</th>\n",
       "      <th>refdes</th>\n",
       "      <th>instrument</th>\n",
       "      <th>tocL1</th>\n",
       "      <th>tocL2</th>\n",
       "      <th>tocL3</th>\n",
       "      <th>manufacturer</th>\n",
       "      <th>model</th>\n",
       "      <th>mindepth</th>\n",
       "      <th>maxdepth</th>\n",
       "    </tr>\n",
       "  </thead>\n",
       "  <tbody>\n",
       "    <tr>\n",
       "      <th>0</th>\n",
       "      <td>.VocabRecord</td>\n",
       "      <td>34</td>\n",
       "      <td>CE01ISSM-SBD17-06-CTDBPC000</td>\n",
       "      <td>CTD</td>\n",
       "      <td>Coastal Endurance</td>\n",
       "      <td>Oregon Inshore Surface Mooring</td>\n",
       "      <td>Surface Buoy</td>\n",
       "      <td>Sea-Bird</td>\n",
       "      <td>SBE 16plusV2</td>\n",
       "      <td>1.0</td>\n",
       "      <td>1.0</td>\n",
       "    </tr>\n",
       "  </tbody>\n",
       "</table>\n",
       "</div>"
      ],
      "text/plain": [
       "         @class  vocabId                       refdes instrument  \\\n",
       "0  .VocabRecord       34  CE01ISSM-SBD17-06-CTDBPC000        CTD   \n",
       "\n",
       "               tocL1                           tocL2         tocL3  \\\n",
       "0  Coastal Endurance  Oregon Inshore Surface Mooring  Surface Buoy   \n",
       "\n",
       "  manufacturer         model  mindepth  maxdepth  \n",
       "0     Sea-Bird  SBE 16plusV2       1.0       1.0  "
      ]
     },
     "execution_count": 3,
     "metadata": {},
     "output_type": "execute_result"
    }
   ],
   "source": [
    "# Checking description of sensor with vocab connected to the reference designator above\n",
    "vocab = M2M.get_vocab(refdes)\n",
    "vocab"
   ]
  },
  {
   "cell_type": "code",
   "execution_count": 10,
   "metadata": {},
   "outputs": [
    {
     "data": {
      "text/html": [
       "<div>\n",
       "<style scoped>\n",
       "    .dataframe tbody tr th:only-of-type {\n",
       "        vertical-align: middle;\n",
       "    }\n",
       "\n",
       "    .dataframe tbody tr th {\n",
       "        vertical-align: top;\n",
       "    }\n",
       "\n",
       "    .dataframe thead th {\n",
       "        text-align: right;\n",
       "    }\n",
       "</style>\n",
       "<table border=\"1\" class=\"dataframe\">\n",
       "  <thead>\n",
       "    <tr style=\"text-align: right;\">\n",
       "      <th></th>\n",
       "      <th>deploymentNumber</th>\n",
       "      <th>uid</th>\n",
       "      <th>assetId</th>\n",
       "      <th>latitude</th>\n",
       "      <th>longitude</th>\n",
       "      <th>depth</th>\n",
       "      <th>deployStart</th>\n",
       "      <th>deployEnd</th>\n",
       "      <th>deployCruise</th>\n",
       "      <th>recoverCruise</th>\n",
       "    </tr>\n",
       "  </thead>\n",
       "  <tbody>\n",
       "    <tr>\n",
       "      <th>10</th>\n",
       "      <td>14</td>\n",
       "      <td>CGINS-CTDBPC-50152</td>\n",
       "      <td>3417</td>\n",
       "      <td>44.65973</td>\n",
       "      <td>-124.09492</td>\n",
       "      <td>1.0</td>\n",
       "      <td>2021-03-31 14:29:00</td>\n",
       "      <td>2021-09-17 15:51:00</td>\n",
       "      <td>SKQ202104S</td>\n",
       "      <td>None</td>\n",
       "    </tr>\n",
       "    <tr>\n",
       "      <th>11</th>\n",
       "      <td>15</td>\n",
       "      <td>CGINS-CTDBPC-50055</td>\n",
       "      <td>1485</td>\n",
       "      <td>44.65708</td>\n",
       "      <td>-124.09447</td>\n",
       "      <td>1.0</td>\n",
       "      <td>2021-09-17 14:07:00</td>\n",
       "      <td>2022-03-31 00:06:00</td>\n",
       "      <td>TN394</td>\n",
       "      <td>None</td>\n",
       "    </tr>\n",
       "    <tr>\n",
       "      <th>12</th>\n",
       "      <td>16</td>\n",
       "      <td>CGINS-CTDBPC-50152</td>\n",
       "      <td>3417</td>\n",
       "      <td>44.65958</td>\n",
       "      <td>-124.095</td>\n",
       "      <td>1.0</td>\n",
       "      <td>2022-03-31 15:51:00</td>\n",
       "      <td>2022-10-01 16:21:00</td>\n",
       "      <td>SKQ202205S</td>\n",
       "      <td>None</td>\n",
       "    </tr>\n",
       "  </tbody>\n",
       "</table>\n",
       "</div>"
      ],
      "text/plain": [
       "   deploymentNumber                 uid assetId  latitude  longitude depth  \\\n",
       "10               14  CGINS-CTDBPC-50152    3417  44.65973 -124.09492   1.0   \n",
       "11               15  CGINS-CTDBPC-50055    1485  44.65708 -124.09447   1.0   \n",
       "12               16  CGINS-CTDBPC-50152    3417  44.65958   -124.095   1.0   \n",
       "\n",
       "           deployStart           deployEnd deployCruise recoverCruise  \n",
       "10 2021-03-31 14:29:00 2021-09-17 15:51:00   SKQ202104S          None  \n",
       "11 2021-09-17 14:07:00 2022-03-31 00:06:00        TN394          None  \n",
       "12 2022-03-31 15:51:00 2022-10-01 16:21:00   SKQ202205S          None  "
      ]
     },
     "execution_count": 10,
     "metadata": {},
     "output_type": "execute_result"
    }
   ],
   "source": [
    "# View deployment information \n",
    "# Below we can see the dates that instruments were recovered in relation to the date that lookup tables were updated and cutoff date.\n",
    "deployments = M2M.get_deployments(refdes)\n",
    "deployments.loc[10:12]"
   ]
  },
  {
   "attachments": {},
   "cell_type": "markdown",
   "metadata": {},
   "source": [
    "### Finding dates of data ingestion"
   ]
  },
  {
   "cell_type": "code",
   "execution_count": null,
   "metadata": {},
   "outputs": [],
   "source": [
    "# Load metadata about the sensor to check available variables and attributes in the dataset\n",
    "metadata = M2M.get_metadata(refdes)\n",
    "metadata # Note that ingestion_timestamp exists as a variable for the data streams telemetered, recovered_host, and recovered_inst"
   ]
  },
  {
   "attachments": {},
   "cell_type": "markdown",
   "metadata": {},
   "source": [
    "The next cell is requesting and downloading data at the end of deployment 14. I temporarily edited the `m2m_collect()` function in the source code to keep the ingestion_timestep variable in the dataset instead of dropping it. Most of the time we won't need the ingestion timestamp, but in this case I needed to check which dates of recovered data were included in the calculation of published lookup tables.  "
   ]
  },
  {
   "cell_type": "code",
   "execution_count": null,
   "metadata": {},
   "outputs": [],
   "source": [
    "# download recovered_host data on last day of deployment 14\n",
    "tag = '.*CTDBP.*\\\\.nc$'\n",
    "method = 'recovered_host'\n",
    "stream = 'ctdbp_cdef_dcl_instrument_recovered'\n",
    "req_host = ooi_tools.m2m_request(site, node, sensor, method, stream, start='2021-09-17T00:00:00.000Z', stop='2021-09-17T14:00:00.000Z')\n",
    "data_host = ooi_tools.m2m_collect(req_host, tag)\n",
    "data_host\n",
    "# added data ingestion date in notes on OOI Data Explorations"
   ]
  },
  {
   "cell_type": "code",
   "execution_count": null,
   "metadata": {},
   "outputs": [],
   "source": [
    "# download recovered_inst data on last day of deployment 14\n",
    "tag = '.*CTDBP.*\\\\.nc$'\n",
    "method = 'recovered_inst'\n",
    "stream = 'ctdbp_cdef_instrument_recovered'\n",
    "req_inst = ooi_tools.m2m_request(site, node, sensor, method, stream, start='2021-09-17T00:00:00.000Z', stop='2021-09-17T14:00:00.000Z')\n",
    "data_inst = ooi_tools.m2m_collect(req_inst, tag)\n",
    "data_inst\n",
    "# added data ingestion date in notes on OOI Data Explorations"
   ]
  },
  {
   "cell_type": "code",
   "execution_count": null,
   "metadata": {},
   "outputs": [],
   "source": []
  }
 ],
 "metadata": {
  "kernelspec": {
   "display_name": "base",
   "language": "python",
   "name": "python3"
  },
  "language_info": {
   "codemirror_mode": {
    "name": "ipython",
    "version": 3
   },
   "file_extension": ".py",
   "mimetype": "text/x-python",
   "name": "python",
   "nbconvert_exporter": "python",
   "pygments_lexer": "ipython3",
   "version": "3.10.9"
  },
  "orig_nbformat": 4
 },
 "nbformat": 4,
 "nbformat_minor": 2
}
