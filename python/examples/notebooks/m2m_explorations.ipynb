{
 "cells": [
  {
   "cell_type": "markdown",
   "metadata": {},
   "source": [
    "# Accessing OOI Data and Metadata through the M2M API\n",
    "\n",
    "Most users utilize the [OOI M2M API](https://oceanobservatories.org/ooi-m2m-interface/) to access (request and download) data from the various instruments and sensors deployed across the arrays. Indeed, the code in this repo is largely built around this activity. There are, however, additional API calls available to users that go beyond just requesting data. These can be used to request more information about, for example, the various sites, different deployments, instrument serial numbers, and calibration coefficients. \n",
    "\n",
    "All of this information, which is stored in the [OOI Asset Management Database](https://github.com/oceanobservatories/asset-management), is combined to form the metadata (the data about the data) that users can utilize to create data requests, re-process data, or add additional data to the requested data. This notebook will demonstrate how to use these API calls, which have been mapped to functions within this repo, to access and utilize the OOI metadata. To understand the terminology used below, please refer to the [README](https://github.com/oceanobservatories/ooi-data-explorations/tree/master/python#m2m-terminology) for this repo and to the [OOI website](https://oceanobservatories.org/research-arrays/). \n",
    "\n",
    "The functions were built based off of the [API Cheat Sheet](https://github.com/ooi-data-review/2018-data-workshops/raw/master/handouts/API%20Cheat%20Sheet.pdf) developed for the [2018 Early Career Data Workshops](https://oceanobservatories.org/data-workshops/) hosted at Rutgers University. They can be broken down into six categories:\n",
    "\n",
    "* Sensor Information: Develop lists about the various sites, nodes and sensors deployed by OOI, and lists of the data delivery methods, data streams, and the parameters included in, and the time ranges covered by each stream.\n",
    "* Preload Information: Pull information from the backend data base that defines streams and the parameters contained within a stream.\n",
    "* Deployment Information: Download deployment information (deployment number, dates, sensors deployed, location, etc).\n",
    "* Calibration Information: Download calibration data for an instrument defined by the site, node and sensor, or for a specific instrument as defined by it's unique ID (derived from the serial number)\n",
    "* Asset Information: In many ways a duplicate of the Calibration Information functions, with queires and results returned differing slightly. \n",
    "* Annotations: Use the site, node and sensor names to obtain annotations (notes and HITL QC assessments of the data) about the instrument of interest.\n",
    "\n",
    "Several of these functions will return a firehose of information. Users will need to spend time understanding the responses and how they can be used. The examples below will hopefully help with that process."
   ]
  },
  {
   "cell_type": "markdown",
   "metadata": {},
   "source": [
    "## Sensor Information\n",
    "\n",
    "All of the functions used below return lists of the information a user can pull out of the [OOI M2M API](https://oceanobservatories.org/ooi-m2m-interface/) system. The first three functions imported below are hierarchical, in other words they are build on each other (e.g. listing the sites in OOI, then using a specific site to list the available nodes, and then using a specific site and node to list the available sensors). The combination of a specific site, node and sensor is used within OOI to create [the reference designator](https://oceanobservatories.org/knowledgebase/how-to-decipher-a-reference-designator/). The reference designator provides the unique code needed to access a specific instance of an instrument within OOI (e.g. the CTD on the midwater platform of the Oregon Shelf Surface mooring). \n",
    "\n",
    "The remaining three methods all provide different pieces of information about that specific instrument, or reference designator: data delivery methods, streams (aka datasets), the available parameters and the time ranges covered by the different streams."
   ]
  },
  {
   "cell_type": "code",
   "execution_count": 10,
   "metadata": {},
   "outputs": [],
   "source": [
    "import pprint as pp\n",
    "\n",
    "# import the functions used to list available information about sites, nodes and sensors ...\n",
    "from ooi_data_explorations.common import list_sites, list_nodes, list_sensors\n",
    "\n",
    "# ... and the more detailed information about a specific site, node and sensor (reference designator)\n",
    "from ooi_data_explorations.common import list_methods, list_streams, list_metadata"
   ]
  },
  {
   "cell_type": "code",
   "execution_count": 2,
   "metadata": {},
   "outputs": [
    {
     "data": {
      "text/plain": [
       "['CE01ISSM',\n",
       " 'CE01ISSP',\n",
       " 'CE02SHBP',\n",
       " 'CE02SHSM',\n",
       " 'CE02SHSP',\n",
       " 'CE04OSBP',\n",
       " 'CE04OSPD',\n",
       " 'CE04OSPI',\n",
       " 'CE04OSPS',\n",
       " 'CE04OSSM',\n",
       " 'CE05MOAS',\n",
       " 'CE06ISSM',\n",
       " 'CE06ISSP',\n",
       " 'CE07SHSM',\n",
       " 'CE07SHSP',\n",
       " 'CE09OSPM',\n",
       " 'CE09OSSM',\n",
       " 'CP01CNPM',\n",
       " 'CP01CNSM',\n",
       " 'CP01CNSP',\n",
       " 'CP02PMCI',\n",
       " 'CP02PMCO',\n",
       " 'CP02PMUI',\n",
       " 'CP02PMUO',\n",
       " 'CP03ISPM',\n",
       " 'CP03ISSM',\n",
       " 'CP03ISSP',\n",
       " 'CP04OSPM',\n",
       " 'CP04OSSM',\n",
       " 'CP05MOAS',\n",
       " 'GA01SUMO',\n",
       " 'GA02HYPM',\n",
       " 'GA03FLMA',\n",
       " 'GA03FLMB',\n",
       " 'GA05MOAS',\n",
       " 'GI01SUMO',\n",
       " 'GI02HYPM',\n",
       " 'GI03FLMA',\n",
       " 'GI03FLMB',\n",
       " 'GI05MOAS',\n",
       " 'GP02HYPM',\n",
       " 'GP03FLMA',\n",
       " 'GP03FLMB',\n",
       " 'GP05MOAS',\n",
       " 'GS01SUMO',\n",
       " 'GS02HYPM',\n",
       " 'GS03FLMA',\n",
       " 'GS03FLMB',\n",
       " 'GS05MOAS',\n",
       " 'RS01OSBP',\n",
       " 'RS01SBPD',\n",
       " 'RS01SBPS',\n",
       " 'RS01SHBP',\n",
       " 'RS01SHDR',\n",
       " 'RS01SLBS',\n",
       " 'RS01SUM1',\n",
       " 'RS01SUM2',\n",
       " 'RS03ASHS',\n",
       " 'RS03AXBS',\n",
       " 'RS03AXPD',\n",
       " 'RS03AXPS',\n",
       " 'RS03AXSM',\n",
       " 'RS03CCAL',\n",
       " 'RS03ECAL',\n",
       " 'RS03INT1',\n",
       " 'RS03INT2',\n",
       " 'SSRSPACC']"
      ]
     },
     "execution_count": 2,
     "metadata": {},
     "output_type": "execute_result"
    }
   ],
   "source": [
    "# create a list of all the sites in OOI\n",
    "sites = list_sites()\n",
    "sites"
   ]
  },
  {
   "cell_type": "code",
   "execution_count": 3,
   "metadata": {},
   "outputs": [
    {
     "data": {
      "text/plain": [
       "['RIC21', 'RID26', 'RID27', 'SBC11', 'SBD11', 'SBD12']"
      ]
     },
     "execution_count": 3,
     "metadata": {},
     "output_type": "execute_result"
    }
   ],
   "source": [
    "# select CE02SHSM as the site to use for the rest of this example\n",
    "site = sites[3]\n",
    "\n",
    "# create a list of nodes available for a particular site\n",
    "nodes = list_nodes(site)\n",
    "nodes"
   ]
  },
  {
   "cell_type": "code",
   "execution_count": 4,
   "metadata": {},
   "outputs": [
    {
     "data": {
      "text/plain": [
       "['00-DCLENG000',\n",
       " '01-OPTAAD000',\n",
       " '02-FLORTD000',\n",
       " '03-CTDBPC000',\n",
       " '04-DOSTAD000']"
      ]
     },
     "execution_count": 4,
     "metadata": {},
     "output_type": "execute_result"
    }
   ],
   "source": [
    "# select RID27 (1 of 2 data loggers on the midwater platform) as the node to use for the rest of this example\n",
    "node = nodes[2]\n",
    "\n",
    "# create a list of sensors for a particular node\n",
    "sensors = list_sensors(site, node)\n",
    "sensors"
   ]
  },
  {
   "cell_type": "code",
   "execution_count": 5,
   "metadata": {},
   "outputs": [],
   "source": [
    "# select the CTD as the sensor to use for the rest of this example\n",
    "sensor = sensors[3]"
   ]
  },
  {
   "cell_type": "markdown",
   "metadata": {},
   "source": [
    "The above steps pedantically construct the reference designator that will be used in a future requests below. There are other sources of this information, such as the [OOI website](https://oceanobservatories.org/), [Data Portal](https://ooinet.oceanobservatories.org/) or [Data Explorer](https://dataexplorer.oceanobservatories.org/) that a user to could work through to construct the reference designator manually. The above methods provide programmatic tools to walk through all of the OOI instruments, of which there are 1398 unique instances (counting engineering and science instruments). It might take a while to manually search through all those entries. Alternatively, we can programmatically find every instance of, for example, the [CTDBP](https://oceanobservatories.org/instrument-class/ctd/) instruments in OOI ..."
   ]
  },
  {
   "cell_type": "code",
   "execution_count": 6,
   "metadata": {},
   "outputs": [
    {
     "name": "stdout",
     "output_type": "stream",
     "text": [
      "CPU times: total: 578 ms\n",
      "Wall time: 49.7 s\n"
     ]
    },
    {
     "data": {
      "text/plain": [
       "['CE01ISSM-MFD37-03-CTDBPC000',\n",
       " 'CE01ISSM-RID16-03-CTDBPC000',\n",
       " 'CE01ISSM-SBD17-06-CTDBPC000',\n",
       " 'CE02SHBP-LJ01D-06-CTDBPN106',\n",
       " 'CE02SHSM-RID27-03-CTDBPC000',\n",
       " 'CE04OSBP-LJ01C-06-CTDBPO108',\n",
       " 'CE04OSSM-RID27-03-CTDBPC000',\n",
       " 'CE06ISSM-MFD37-03-CTDBPC000',\n",
       " 'CE06ISSM-RID16-03-CTDBPC000',\n",
       " 'CE06ISSM-SBD17-06-CTDBPC000',\n",
       " 'CE07SHSM-MFD37-03-CTDBPC000',\n",
       " 'CE07SHSM-RID27-03-CTDBPC000',\n",
       " 'CE09OSSM-MFD37-03-CTDBPE000',\n",
       " 'CE09OSSM-RID27-03-CTDBPC000',\n",
       " 'CP01CNSM-MFD37-03-CTDBPD000',\n",
       " 'CP01CNSM-RID27-03-CTDBPC000',\n",
       " 'CP03ISSM-MFD37-03-CTDBPD000',\n",
       " 'CP03ISSM-RID27-03-CTDBPC000',\n",
       " 'CP04OSSM-MFD37-03-CTDBPE000',\n",
       " 'CP04OSSM-RID27-03-CTDBPC000',\n",
       " 'GA01SUMO-RID16-03-CTDBPF000',\n",
       " 'GA01SUMO-RII11-02-CTDBPP031',\n",
       " 'GA01SUMO-RII11-02-CTDBPP032',\n",
       " 'GA01SUMO-RII11-02-CTDBPP033',\n",
       " 'GI01SUMO-RID16-03-CTDBPF000',\n",
       " 'GI01SUMO-RII11-02-CTDBPP031',\n",
       " 'GI01SUMO-RII11-02-CTDBPP032',\n",
       " 'GI01SUMO-RII11-02-CTDBPP033',\n",
       " 'GS01SUMO-RID16-03-CTDBPF000',\n",
       " 'GS01SUMO-RII11-02-CTDBPP031',\n",
       " 'GS01SUMO-RII11-02-CTDBPP032',\n",
       " 'GS01SUMO-RII11-02-CTDBPP033']"
      ]
     },
     "execution_count": 6,
     "metadata": {},
     "output_type": "execute_result"
    }
   ],
   "source": [
    "%%time\n",
    "ctdbp = []\n",
    "for site in sites:\n",
    "    nodes = list_nodes(site)\n",
    "    for node in nodes:\n",
    "        sensors  = list_sensors(site, node)\n",
    "        for sensor in sensors:\n",
    "            if sensor.find('CTDBP') > 0:\n",
    "                ctdbp.append('-'.join([site, node, sensor]))\n",
    "\n",
    "ctdbp"
   ]
  },
  {
   "cell_type": "markdown",
   "metadata": {},
   "source": [
    "... in ~7 seconds. There are 32 of them.\n",
    "\n",
    "Circling back to the CTD on the Oregon Shelf Surface Mooring midwater platform, or `CE02SHSM-RID27-03-CTDBPC000`, we can use the remaining Sensor Information functions to gather more information about this particular sensor."
   ]
  },
  {
   "cell_type": "code",
   "execution_count": 7,
   "metadata": {},
   "outputs": [
    {
     "data": {
      "text/plain": [
       "['recovered_host', 'recovered_inst', 'telemetered']"
      ]
     },
     "execution_count": 7,
     "metadata": {},
     "output_type": "execute_result"
    }
   ],
   "source": [
    "# reset the site, node and sensor to CE02SHSM-RID27-03-CTDBPC000\n",
    "site = 'CE02SHSM'\n",
    "node = 'RID27'\n",
    "sensor = '03-CTDBPC000'\n",
    "\n",
    "# create a list of the data delivery methods available for this sensor\n",
    "methods = list_methods(site, node, sensor)\n",
    "methods"
   ]
  },
  {
   "cell_type": "code",
   "execution_count": 8,
   "metadata": {},
   "outputs": [
    {
     "data": {
      "text/plain": [
       "['ctdbp_cdef_dcl_instrument_recovered']"
      ]
     },
     "execution_count": 8,
     "metadata": {},
     "output_type": "execute_result"
    }
   ],
   "source": [
    "# select recovered_host as the data delivery method to use for the rest of this example\n",
    "method = methods[0]\n",
    "\n",
    "# create a list of the data streams (aka datasets) available from this sensor and data delivery method\n",
    "streams = list_streams(site, node, sensor, method)\n",
    "streams"
   ]
  },
  {
   "cell_type": "code",
   "execution_count": 11,
   "metadata": {},
   "outputs": [
    {
     "name": "stdout",
     "output_type": "stream",
     "text": [
      "{'fillValue': '-9999999',\n",
      " 'particleKey': 'conductivity',\n",
      " 'pdId': 'PD1',\n",
      " 'shape': 'SCALAR',\n",
      " 'stream': 'ctdbp_cdef_dcl_instrument_recovered',\n",
      " 'type': 'FLOAT',\n",
      " 'units': 'S m-1',\n",
      " 'unsigned': False}\n",
      "{'fillValue': '-9999999',\n",
      " 'particleKey': 'pressure',\n",
      " 'pdId': 'PD2',\n",
      " 'shape': 'SCALAR',\n",
      " 'stream': 'ctdbp_cdef_dcl_instrument_recovered',\n",
      " 'type': 'FLOAT',\n",
      " 'units': 'dbar',\n",
      " 'unsigned': False}\n",
      "{'fillValue': '-9999999',\n",
      " 'particleKey': 'density',\n",
      " 'pdId': 'PD5',\n",
      " 'shape': 'FUNCTION',\n",
      " 'stream': 'ctdbp_cdef_dcl_instrument_recovered',\n",
      " 'type': 'FLOAT',\n",
      " 'units': 'kg m-3',\n",
      " 'unsigned': False}\n",
      "{'fillValue': '-9999999',\n",
      " 'particleKey': 'temp',\n",
      " 'pdId': 'PD6',\n",
      " 'shape': 'SCALAR',\n",
      " 'stream': 'ctdbp_cdef_dcl_instrument_recovered',\n",
      " 'type': 'FLOAT',\n",
      " 'units': 'degrees_Celsius',\n",
      " 'unsigned': False}\n",
      "{'fillValue': '-9999999',\n",
      " 'particleKey': 'time',\n",
      " 'pdId': 'PD7',\n",
      " 'shape': 'SCALAR',\n",
      " 'stream': 'ctdbp_cdef_dcl_instrument_recovered',\n",
      " 'type': 'DOUBLE',\n",
      " 'units': 'seconds since 1900-01-01',\n",
      " 'unsigned': False}\n",
      "{'fillValue': '-9999999',\n",
      " 'particleKey': 'port_timestamp',\n",
      " 'pdId': 'PD10',\n",
      " 'shape': 'SCALAR',\n",
      " 'stream': 'ctdbp_cdef_dcl_instrument_recovered',\n",
      " 'type': 'DOUBLE',\n",
      " 'units': 'seconds since 1900-01-01',\n",
      " 'unsigned': False}\n",
      "{'fillValue': '-9999999',\n",
      " 'particleKey': 'driver_timestamp',\n",
      " 'pdId': 'PD11',\n",
      " 'shape': 'SCALAR',\n",
      " 'stream': 'ctdbp_cdef_dcl_instrument_recovered',\n",
      " 'type': 'DOUBLE',\n",
      " 'units': 'seconds since 1900-01-01',\n",
      " 'unsigned': False}\n",
      "{'fillValue': '-9999999',\n",
      " 'particleKey': 'internal_timestamp',\n",
      " 'pdId': 'PD12',\n",
      " 'shape': 'SCALAR',\n",
      " 'stream': 'ctdbp_cdef_dcl_instrument_recovered',\n",
      " 'type': 'DOUBLE',\n",
      " 'units': 'seconds since 1900-01-01',\n",
      " 'unsigned': False}\n",
      "{'fillValue': '-9999999',\n",
      " 'particleKey': 'practical_salinity',\n",
      " 'pdId': 'PD13',\n",
      " 'shape': 'FUNCTION',\n",
      " 'stream': 'ctdbp_cdef_dcl_instrument_recovered',\n",
      " 'type': 'FLOAT',\n",
      " 'units': '1',\n",
      " 'unsigned': False}\n",
      "{'fillValue': 'empty',\n",
      " 'particleKey': 'preferred_timestamp',\n",
      " 'pdId': 'PD16',\n",
      " 'shape': 'SCALAR',\n",
      " 'stream': 'ctdbp_cdef_dcl_instrument_recovered',\n",
      " 'type': 'STRING',\n",
      " 'units': None,\n",
      " 'unsigned': False}\n",
      "{'fillValue': 'empty',\n",
      " 'particleKey': 'date_time_string',\n",
      " 'pdId': 'PD93',\n",
      " 'shape': 'SCALAR',\n",
      " 'stream': 'ctdbp_cdef_dcl_instrument_recovered',\n",
      " 'type': 'STRING',\n",
      " 'units': None,\n",
      " 'unsigned': False}\n",
      "{'fillValue': '-9999',\n",
      " 'particleKey': 'ingestion_timestamp',\n",
      " 'pdId': 'PD863',\n",
      " 'shape': 'SCALAR',\n",
      " 'stream': 'ctdbp_cdef_dcl_instrument_recovered',\n",
      " 'type': 'DOUBLE',\n",
      " 'units': 'seconds since 1900-01-01',\n",
      " 'unsigned': False}\n",
      "{'fillValue': 'empty',\n",
      " 'particleKey': 'dcl_controller_timestamp',\n",
      " 'pdId': 'PD2605',\n",
      " 'shape': 'SCALAR',\n",
      " 'stream': 'ctdbp_cdef_dcl_instrument_recovered',\n",
      " 'type': 'STRING',\n",
      " 'units': None,\n",
      " 'unsigned': False}\n",
      "{'fillValue': '-9999999',\n",
      " 'particleKey': 'depth',\n",
      " 'pdId': 'PD8100',\n",
      " 'shape': 'FUNCTION',\n",
      " 'stream': 'ctdbp_cdef_dcl_instrument_recovered',\n",
      " 'type': 'FLOAT',\n",
      " 'units': 'm',\n",
      " 'unsigned': False}\n"
     ]
    }
   ],
   "source": [
    "# select the one stream for this data delivery method to use for the rest of this example\n",
    "stream = streams[0]\n",
    "\n",
    "# create lists of dictionaries with the available parameters and time ranges covered by each \n",
    "# dataset associated with the sensor\n",
    "metadata = list_metadata(site, node, sensor)\n",
    "parameters = metadata.pop('parameters')\n",
    "time_ranges = metadata['times']\n",
    "\n",
    "# print the parameter dictionaries for the parameters associated with this stream\n",
    "for p in parameters:\n",
    "    if p['stream'] == stream:\n",
    "        pp.pprint(p)"
   ]
  },
  {
   "cell_type": "code",
   "execution_count": 12,
   "metadata": {},
   "outputs": [
    {
     "name": "stdout",
     "output_type": "stream",
     "text": [
      "{'beginTime': '2015-04-02T20:45:22.170Z',\n",
      " 'count': 2032368,\n",
      " 'endTime': '2022-10-03T17:00:06.417Z',\n",
      " 'method': 'recovered_host',\n",
      " 'stream': 'ctdbp_cdef_dcl_instrument_recovered'}\n"
     ]
    }
   ],
   "source": [
    "# print the time range for this stream\n",
    "for t in time_ranges:\n",
    "    if t['stream'] == stream:\n",
    "        pp.pprint(t)"
   ]
  },
  {
   "cell_type": "markdown",
   "metadata": {},
   "source": [
    "## Preload Information"
   ]
  },
  {
   "cell_type": "code",
   "execution_count": 19,
   "metadata": {},
   "outputs": [],
   "source": [
    "START = '2015-04-02T20:45:22.170Z'\n",
    "STOP = '2016-04-02T20:45:22.170Z'\n",
    "# BASE_URL = \n",
    "SITE = site\n",
    "NODE = node \n",
    "SENSOR = sensor\n",
    "METHOD = method"
   ]
  },
  {
   "cell_type": "code",
   "execution_count": 16,
   "metadata": {},
   "outputs": [],
   "source": [
    "import requests"
   ]
  },
  {
   "cell_type": "code",
   "execution_count": 20,
   "metadata": {
    "scrolled": true
   },
   "outputs": [
    {
     "ename": "NameError",
     "evalue": "name 'BASE_URL' is not defined",
     "output_type": "error",
     "traceback": [
      "\u001b[1;31m---------------------------------------------------------------------------\u001b[0m",
      "\u001b[1;31mNameError\u001b[0m                                 Traceback (most recent call last)",
      "Cell \u001b[1;32mIn[20], line 4\u001b[0m\n\u001b[0;32m      2\u001b[0m STREAM \u001b[38;5;241m=\u001b[39m \u001b[38;5;124m'\u001b[39m\u001b[38;5;124mctdbp_cdef_dcl_instrument\u001b[39m\u001b[38;5;124m'\u001b[39m\n\u001b[0;32m      3\u001b[0m OPTIONS \u001b[38;5;241m=\u001b[39m \u001b[38;5;124m'\u001b[39m\u001b[38;5;124m?beginDT=\u001b[39m\u001b[38;5;124m'\u001b[39m \u001b[38;5;241m+\u001b[39m START \u001b[38;5;241m+\u001b[39m \u001b[38;5;124m'\u001b[39m\u001b[38;5;124m&endDT=\u001b[39m\u001b[38;5;124m'\u001b[39m \u001b[38;5;241m+\u001b[39m STOP \u001b[38;5;241m+\u001b[39m \u001b[38;5;124m'\u001b[39m\u001b[38;5;124m&limit=2&parameters=7&include_provenance=true&strict_range=true\u001b[39m\u001b[38;5;124m'\u001b[39m\n\u001b[1;32m----> 4\u001b[0m r \u001b[38;5;241m=\u001b[39m requests\u001b[38;5;241m.\u001b[39mget(\u001b[43mBASE_URL\u001b[49m \u001b[38;5;241m+\u001b[39m SENSOR_URL \u001b[38;5;241m+\u001b[39m SITE \u001b[38;5;241m+\u001b[39m NODE \u001b[38;5;241m+\u001b[39m SENSOR \u001b[38;5;241m+\u001b[39m METHOD \u001b[38;5;241m+\u001b[39m STREAM \u001b[38;5;241m+\u001b[39m OPTIONS, auth\u001b[38;5;241m=\u001b[39m(auth[\u001b[38;5;241m0\u001b[39m], auth[\u001b[38;5;241m2\u001b[39m]))\n\u001b[0;32m      5\u001b[0m data \u001b[38;5;241m=\u001b[39m r\u001b[38;5;241m.\u001b[39mjson()\n\u001b[0;32m      6\u001b[0m \u001b[38;5;28mprint\u001b[39m(json\u001b[38;5;241m.\u001b[39mdumps(data, indent\u001b[38;5;241m=\u001b[39m\u001b[38;5;241m2\u001b[39m))\n",
      "\u001b[1;31mNameError\u001b[0m: name 'BASE_URL' is not defined"
     ]
    }
   ],
   "source": [
    "# Grab the provenance info and the driver associated with this data stream for this deployment\n",
    "STREAM = 'ctdbp_cdef_dcl_instrument'\n",
    "OPTIONS = '?beginDT=' + START + '&endDT=' + STOP + '&limit=2&parameters=7&include_provenance=true&strict_range=true'\n",
    "r = requests.get(BASE_URL + SENSOR_URL + SITE + NODE + SENSOR + METHOD + STREAM + OPTIONS, auth=(auth[0], auth[2]))\n",
    "data = r.json()\n",
    "print(json.dumps(data, indent=2))\n",
    "\n",
    "# note this will fail if the system does not have any data, we want to know that so will need to code for failures"
   ]
  },
  {
   "cell_type": "code",
   "execution_count": null,
   "metadata": {},
   "outputs": [],
   "source": [
    "# determine the driver used to parse the data and the source of the data\n",
    "provenance = data['provenance']\n",
    "driver = [provenance[key]['parser_name'] for key in provenance.keys()][0].encode('ascii', 'ignore')\n",
    "infile = [provenance[key]['file_name'] for key in provenance.keys()][0].encode('ascii', 'ignore')"
   ]
  },
  {
   "cell_type": "code",
   "execution_count": null,
   "metadata": {},
   "outputs": [],
   "source": []
  }
 ],
 "metadata": {
  "kernelspec": {
   "display_name": "Python 3 (ipykernel)",
   "language": "python",
   "name": "python3"
  },
  "language_info": {
   "codemirror_mode": {
    "name": "ipython",
    "version": 3
   },
   "file_extension": ".py",
   "mimetype": "text/x-python",
   "name": "python",
   "nbconvert_exporter": "python",
   "pygments_lexer": "ipython3",
   "version": "3.10.9"
  }
 },
 "nbformat": 4,
 "nbformat_minor": 2
}
